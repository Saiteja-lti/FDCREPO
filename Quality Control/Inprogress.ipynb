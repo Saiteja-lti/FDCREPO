{
 "cells": [
  {
   "cell_type": "code",
   "execution_count": null,
   "id": "373b01ed-65ed-4c7c-9275-4b2f1ebd6a71",
   "metadata": {},
   "outputs": [],
   "source": [
    "import pandas as pd\n",
    "from sklearn.model_selection import train_test_split\n",
    "from sklearn.linear_model import LinearRegression\n",
    "import numpy as np\n",
    "\n",
    "# Load the data from the CSV file\n",
    "data = pd.read_csv('2024-11-15 11_38am (1).csv')\n",
    "\n",
    "# Convert YEAR_MONTH to datetime and extract features\n",
    "data['YEAR_MONTH'] = pd.to_datetime(data['YEAR_MONTH'])\n",
    "data['YEAR'] = data['YEAR_MONTH'].dt.year\n",
    "data['MONTH'] = data['YEAR_MONTH'].dt.month\n",
    "\n",
    "# Prepare the dataset for training\n",
    "X = data[['YEAR', 'MONTH']]\n",
    "y = data['YIELD_RATE']\n",
    "\n",
    "# Split the dataset into training and testing sets\n",
    "X_train, X_test, y_train, y_test = train_test_split(X, y, test_size=0.2, random_state=42)\n",
    "\n",
    "# Create and train the linear regression model\n",
    "model = LinearRegression()\n",
    "model.fit(X_train, y_train)\n",
    "\n",
    "# Predict the yield rate for the next 1 year (12 months)\n",
    "future_dates = pd.date_range(start='2024-12-01', periods=12, freq='M')\n",
    "future_data = pd.DataFrame({'YEAR': future_dates.year, 'MONTH': future_dates.month})\n",
    "future_predictions = model.predict(future_data)\n",
    "\n",
    "# Print the predictions\n",
    "for date, prediction in zip(future_dates, future_predictions):\n",
    "    print(f\"Predicted Yield Rate for {date.strftime('%Y-%m')} is {prediction:.6f}\")\n"
   ]
  }
 ],
 "metadata": {
  "kernelspec": {
   "display_name": "Python 3 (ipykernel)",
   "language": "python",
   "name": "python3"
  },
  "language_info": {
   "codemirror_mode": {
    "name": "ipython",
    "version": 3
   },
   "file_extension": ".py",
   "mimetype": "text/x-python",
   "name": "python",
   "nbconvert_exporter": "python",
   "pygments_lexer": "ipython3",
   "version": "3.9.19"
  }
 },
 "nbformat": 4,
 "nbformat_minor": 5
}
